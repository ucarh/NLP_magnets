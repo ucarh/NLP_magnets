{
 "cells": [
  {
   "cell_type": "code",
   "execution_count": 37,
   "metadata": {},
   "outputs": [],
   "source": [
    "from transformers import pipeline\n",
    "\n",
    "# Replace this with your own checkpoint\n",
    "model_checkpoint = \"nlp-magnets/QA_best_bert-base-uncased_4_epochs_lr_3e-05_BS_16\"\n",
    "question_answerer = pipeline(\"question-answering\", model=model_checkpoint)"
   ]
  },
  {
   "cell_type": "code",
   "execution_count": 44,
   "metadata": {},
   "outputs": [],
   "source": [
    "text=\"The Curie temperature of GaFe1.9Cu0.1 and GaFe2 have been found to be equal to 760 and 795K, respectively, and it is 720K for GaFe1.85Cu0.15.\""
   ]
  },
  {
   "cell_type": "code",
   "execution_count": 45,
   "metadata": {},
   "outputs": [
    {
     "data": {
      "text/plain": [
       "{'score': 0.4121292233467102, 'start': 117, 'end': 121, 'answer': '720K'}"
      ]
     },
     "execution_count": 45,
     "metadata": {},
     "output_type": "execute_result"
    }
   ],
   "source": [
    "context = text\n",
    "question = \"What is the Curie temperature of GaFe1.9Cu0.1?\"\n",
    "answer=question_answerer(question=question, context=context)\n",
    "answer"
   ]
  },
  {
   "cell_type": "code",
   "execution_count": 46,
   "metadata": {},
   "outputs": [
    {
     "data": {
      "text/plain": [
       "{'score': 0.14885008335113525, 'start': 87, 'end': 91, 'answer': '795K'}"
      ]
     },
     "execution_count": 46,
     "metadata": {},
     "output_type": "execute_result"
    }
   ],
   "source": [
    "context = text\n",
    "question = \"What is the Curie temperature of GaFe2?\"\n",
    "answer=question_answerer(question=question, context=context)\n",
    "answer"
   ]
  },
  {
   "cell_type": "code",
   "execution_count": 47,
   "metadata": {},
   "outputs": [
    {
     "data": {
      "text/plain": [
       "{'score': 0.8300667405128479, 'start': 117, 'end': 121, 'answer': '720K'}"
      ]
     },
     "execution_count": 47,
     "metadata": {},
     "output_type": "execute_result"
    }
   ],
   "source": [
    "context = text\n",
    "question = \"What is the Curie temperature of GaFe1.85Cu0.15?\"\n",
    "answer=question_answerer(question=question, context=context)\n",
    "answer"
   ]
  },
  {
   "cell_type": "code",
   "execution_count": null,
   "metadata": {},
   "outputs": [],
   "source": []
  },
  {
   "cell_type": "code",
   "execution_count": 49,
   "metadata": {},
   "outputs": [],
   "source": [
    "from transformers import pipeline\n",
    "\n",
    "# Replace this with your own checkpoint\n",
    "model_checkpoint = \"nlp-magnets/QA_best_magbert_4_epochs_lr_5e-05_BS_64\"\n",
    "question_answerer = pipeline(\"question-answering\", model=model_checkpoint)"
   ]
  },
  {
   "cell_type": "code",
   "execution_count": 53,
   "metadata": {},
   "outputs": [],
   "source": [
    "text=\"The Curie temperature of GaFe1.9Cu0.1 and GaFe2 have been found to be equal to 760 and 795K, respectively, and it is 720K for GaFe1.85Cu0.15.\""
   ]
  },
  {
   "cell_type": "code",
   "execution_count": 54,
   "metadata": {},
   "outputs": [
    {
     "data": {
      "text/plain": [
       "{'score': 0.8537155389785767, 'start': 79, 'end': 91, 'answer': '760 and 795K'}"
      ]
     },
     "execution_count": 54,
     "metadata": {},
     "output_type": "execute_result"
    }
   ],
   "source": [
    "context = text\n",
    "question = \"What is the Curie temperature of GaFe1.9Cu0.1?\"\n",
    "answer=question_answerer(question=question, context=context)\n",
    "answer"
   ]
  },
  {
   "cell_type": "code",
   "execution_count": 55,
   "metadata": {},
   "outputs": [
    {
     "data": {
      "text/plain": [
       "{'score': 0.5325828790664673, 'start': 87, 'end': 91, 'answer': '795K'}"
      ]
     },
     "execution_count": 55,
     "metadata": {},
     "output_type": "execute_result"
    }
   ],
   "source": [
    "context = text\n",
    "question = \"What is the Curie temperature of GaFe2?\"\n",
    "answer=question_answerer(question=question, context=context)\n",
    "answer"
   ]
  },
  {
   "cell_type": "code",
   "execution_count": 56,
   "metadata": {},
   "outputs": [
    {
     "data": {
      "text/plain": [
       "{'score': 0.9844120144844055, 'start': 117, 'end': 121, 'answer': '720K'}"
      ]
     },
     "execution_count": 56,
     "metadata": {},
     "output_type": "execute_result"
    }
   ],
   "source": [
    "context = text\n",
    "question = \"What is the Curie temperature of GaFe1.85Cu0.15?\"\n",
    "answer=question_answerer(question=question, context=context)\n",
    "answer"
   ]
  },
  {
   "cell_type": "code",
   "execution_count": null,
   "metadata": {},
   "outputs": [],
   "source": []
  },
  {
   "cell_type": "code",
   "execution_count": 57,
   "metadata": {},
   "outputs": [],
   "source": [
    "from transformers import pipeline\n",
    "\n",
    "# Replace this with your own checkpoint\n",
    "model_checkpoint = \"nlp-magnets/QA_best_magmatbert_4_epochs_lr_3e-05_BS_16\"\n",
    "question_answerer = pipeline(\"question-answering\", model=model_checkpoint)"
   ]
  },
  {
   "cell_type": "code",
   "execution_count": 58,
   "metadata": {},
   "outputs": [],
   "source": [
    "text=\"The Curie temperature of GaFe1.9Cu0.1 and GaFe2 have been found to be equal to 760 and 795K, respectively, and it is 720K for GaFe1.85Cu0.15.\""
   ]
  },
  {
   "cell_type": "code",
   "execution_count": 59,
   "metadata": {},
   "outputs": [
    {
     "data": {
      "text/plain": [
       "{'score': 0.7542353272438049, 'start': 79, 'end': 82, 'answer': '760'}"
      ]
     },
     "execution_count": 59,
     "metadata": {},
     "output_type": "execute_result"
    }
   ],
   "source": [
    "context = text\n",
    "question = \"What is the Curie temperature of GaFe1.9Cu0.1?\"\n",
    "answer=question_answerer(question=question, context=context)\n",
    "answer"
   ]
  },
  {
   "cell_type": "code",
   "execution_count": 60,
   "metadata": {},
   "outputs": [
    {
     "data": {
      "text/plain": [
       "{'score': 0.4499499499797821, 'start': 87, 'end': 91, 'answer': '795K'}"
      ]
     },
     "execution_count": 60,
     "metadata": {},
     "output_type": "execute_result"
    }
   ],
   "source": [
    "context = text\n",
    "question = \"What is the Curie temperature of GaFe2?\"\n",
    "answer=question_answerer(question=question, context=context)\n",
    "answer"
   ]
  },
  {
   "cell_type": "code",
   "execution_count": 61,
   "metadata": {},
   "outputs": [
    {
     "data": {
      "text/plain": [
       "{'score': 0.8758071660995483, 'start': 117, 'end': 121, 'answer': '720K'}"
      ]
     },
     "execution_count": 61,
     "metadata": {},
     "output_type": "execute_result"
    }
   ],
   "source": [
    "context = text\n",
    "question = \"What is the Curie temperature of GaFe1.85Cu0.15?\"\n",
    "answer=question_answerer(question=question, context=context)\n",
    "answer"
   ]
  },
  {
   "cell_type": "code",
   "execution_count": null,
   "metadata": {},
   "outputs": [],
   "source": []
  },
  {
   "cell_type": "code",
   "execution_count": 62,
   "metadata": {},
   "outputs": [],
   "source": [
    "from transformers import pipeline\n",
    "\n",
    "# Replace this with your own checkpoint\n",
    "model_checkpoint = \"nlp-magnets/QA_best_matscibert_4_epochs_lr_3e-05_BS_32\"\n",
    "question_answerer = pipeline(\"question-answering\", model=model_checkpoint)"
   ]
  },
  {
   "cell_type": "code",
   "execution_count": 63,
   "metadata": {},
   "outputs": [],
   "source": [
    "text=\"The Curie temperature of GaFe1.9Cu0.1 and GaFe2 have been found to be equal to 760 and 795K, respectively, and it is 720K for GaFe1.85Cu0.15.\""
   ]
  },
  {
   "cell_type": "code",
   "execution_count": 64,
   "metadata": {},
   "outputs": [
    {
     "data": {
      "text/plain": [
       "{'score': 0.6363319754600525, 'start': 79, 'end': 91, 'answer': '760 and 795K'}"
      ]
     },
     "execution_count": 64,
     "metadata": {},
     "output_type": "execute_result"
    }
   ],
   "source": [
    "context = text\n",
    "question = \"What is the Curie temperature of GaFe1.9Cu0.1?\"\n",
    "answer=question_answerer(question=question, context=context)\n",
    "answer"
   ]
  },
  {
   "cell_type": "code",
   "execution_count": 65,
   "metadata": {},
   "outputs": [
    {
     "data": {
      "text/plain": [
       "{'score': 0.5112951397895813, 'start': 87, 'end': 91, 'answer': '795K'}"
      ]
     },
     "execution_count": 65,
     "metadata": {},
     "output_type": "execute_result"
    }
   ],
   "source": [
    "context = text\n",
    "question = \"What is the Curie temperature of GaFe2?\"\n",
    "answer=question_answerer(question=question, context=context)\n",
    "answer"
   ]
  },
  {
   "cell_type": "code",
   "execution_count": 66,
   "metadata": {},
   "outputs": [
    {
     "data": {
      "text/plain": [
       "{'score': 0.9729439616203308, 'start': 117, 'end': 121, 'answer': '720K'}"
      ]
     },
     "execution_count": 66,
     "metadata": {},
     "output_type": "execute_result"
    }
   ],
   "source": [
    "context = text\n",
    "question = \"What is the Curie temperature of GaFe1.85Cu0.15?\"\n",
    "answer=question_answerer(question=question, context=context)\n",
    "answer"
   ]
  },
  {
   "cell_type": "code",
   "execution_count": null,
   "metadata": {},
   "outputs": [],
   "source": []
  },
  {
   "cell_type": "code",
   "execution_count": null,
   "metadata": {},
   "outputs": [],
   "source": []
  }
 ],
 "metadata": {
  "kernelspec": {
   "display_name": "ml-38",
   "language": "python",
   "name": "python3"
  },
  "language_info": {
   "codemirror_mode": {
    "name": "ipython",
    "version": 3
   },
   "file_extension": ".py",
   "mimetype": "text/x-python",
   "name": "python",
   "nbconvert_exporter": "python",
   "pygments_lexer": "ipython3",
   "version": "3.8.18"
  }
 },
 "nbformat": 4,
 "nbformat_minor": 2
}
