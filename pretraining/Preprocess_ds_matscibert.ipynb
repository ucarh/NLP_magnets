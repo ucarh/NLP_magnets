{
 "cells": [
  {
   "cell_type": "code",
   "execution_count": 1,
   "metadata": {},
   "outputs": [],
   "source": [
    "import datasets\n",
    "from datasets import load_dataset"
   ]
  },
  {
   "cell_type": "code",
   "execution_count": 2,
   "metadata": {},
   "outputs": [],
   "source": [
    "# from huggingface_hub import notebook_login\n",
    "# notebook_login()"
   ]
  },
  {
   "cell_type": "code",
   "execution_count": 3,
   "metadata": {},
   "outputs": [],
   "source": [
    "magnetics_dataset=load_dataset(\"nlp-magnets/magnetics_corpus_all\",\\\n",
    "                               split='train',cache_dir=\"/l/users/huseyin.ucar/.cache/huggingface/datasets\")"
   ]
  },
  {
   "cell_type": "code",
   "execution_count": 4,
   "metadata": {},
   "outputs": [
    {
     "data": {
      "text/plain": [
       "173360"
      ]
     },
     "execution_count": 4,
     "metadata": {},
     "output_type": "execute_result"
    }
   ],
   "source": [
    "len(magnetics_dataset)\n"
   ]
  },
  {
   "cell_type": "code",
   "execution_count": 5,
   "metadata": {},
   "outputs": [],
   "source": [
    "#remove None in abstract.\n",
    "magnetics_dataset=magnetics_dataset.filter(lambda x:x['abstract'] is not None)"
   ]
  },
  {
   "cell_type": "code",
   "execution_count": 6,
   "metadata": {},
   "outputs": [
    {
     "data": {
      "text/plain": [
       "(150684,\n",
       " {'title': 'Structural, morphological and magnetic analysis of Cd–Co–S dilute magnetic semiconductor nanofilms',\n",
       "  'abstract': 'Cd1−x Co x S dilute magnetic semiconductor nanofilms (0≤x≤0.08at%) deposited by chemical bath deposition have been investigated using grazing angle x-ray diffraction, atomic force microscopy and vibrating sample magnetometer. The introduction of Co2+ ions in CdS structure induces structural disorders and hence, results in degradation of crystallinity. The crystallite size, interplanar spacing and lattice parameter ratio decrease with increasing Co2+ concentration in CdS. The diamagnetic state of CdS disappears with increase in Co concentration and films with x>0.02 exhibit ferromagnetism. This may be explained in terms of the spin–orbit interactions and Co2+ ion induced the lattice defects and phase separation.',\n",
       "  'text': '1 Introduction Dilute magnetic semiconductors (DMS) have received a lot of theoretical and experimental attention because of their promising applications in spintronics, non-volatile memories, optical switches, magneto-optical devices, etc. [1–8]. The recombination of electron charge and magnetic spin in DMS increases their potential for developing spin based semiconducting devices. Recent achievements in magnetic behavior of DMS have benefited the various technological applications [9–12]. DMS are obtained by fractional substitution of 3d transition metal ions (TM; commonly Cr2+, Mn2+, Fe2+, Co2+ and Ni2+) into the cationic sites of the host semiconductor lattice (group II–VI, IV–VI and III–V semiconductor). TM ions in host semiconductor introduce defects/disorders and the spin–orbit interactions tend to commence magnetic ordering in DMS. Group II–VI based DMSs show distinct magnetic phases like diamagnetic, paramagnetic, spin–glass like antiferromagnetic and ferromagnetic at low temperature as well as at/above room temperature [1,4,13,14]. There are different reports on magnetic behavior of DMS, some reporting ferromagnetism while others its absence [4,9,10–12,14–19]. The prominent mechanism responsible for ferromagnetism in II–VI DMS is the sp–d exchange interactions between the free band carriers of the host semiconductor and localized TM ions [1,3,12,20,21]. Recently, a new possibility of magnetism has been reported in d0 systems, where the magnetic properties of materials are not exclusively related to the presence of magnetic ions but can be strongly determined by the defects [22,23]. DMS offer potential to integrate optical, electrical and magnetic properties of a material. Hence, they may be capable of enhancing the performance and functionalities of the traditional microelectronic devices by increasing their speed and storage capacities. Recently, several researchers investigated TM doped CdS material for various properties in the form of nanoparticles, quantum dots, nanorods, films, etc. [14,24–29]. The study of magnetic behavior of Co doped CdS film has scarcely been reported in the literature [30] and hence, need further investigation. The Co2+ (3d7) ions have magnetic nature and tend to coordinate tetrahedrally in CdS structure by occupying the sites of Cd2+ ions. The incorporation of Co2+ ions in CdS structure may tend to alter its properties and commence DMS properties in CdS. In the present work, we report the structural, morphological and magnetic properties of Cd1−x Co x S (0≤x≤0.08at%) nanofilms deposited using chemical bath deposition (CBD) technique. These properties of Co doped CdS DMS nanofilms have been studied using grazing angle x-ray diffraction (GAXRD), atomic force microscopy (AFM) and vibrating sample magnetometer (VSM). 2 Experimental details Cd1−x Co x S nanofilms have been deposited on glass substrate using CBD at a constant temperature (343±2K), constant pH (=11) and for a deposition period of 1h under constant stirring. The basic process of film deposition in CBD proceeds by the slow release of anions with a free metal cation in the presence of a complexing agent [31,32]. All depositions have been carried out from a solution with analytical grade reagents (Merck, India) comprising of CdCl2·H2O (Cd2+ ion source), SC(NH2)2 (S2− ion source), NH4OH and CoCl2·6H2O (Co2+ dopant ion source). Double distilled water (Millipore, 15MΩcm) has been used throughout the experiment. The experimental procedure for deposition of undoped CdS nanofilms is given elsewhere [33]. Co doped CdS films have been deposited by adding 1–5mM solution of CoCl2 into reaction bath containing solutions for CdS deposition. Few drops of triethanolamine (4%) have been added to the final solution to control the release of metal complex during the reaction and to provide better wettability to the substrate. After deposition, the films have been washed with acetic acid (5%) ultrasonically to remove the poorly adherent particles and dried out in the air. The obtained films have been found to be yellow in color with good adherence to the substrate. Post deposition annealing in vacuum of as-deposited films has been performed at 573±5K for 2h. Elemental composition has been measured using the energy dispersive x-ray analyzer (EDAX; INCA X-act Oxford). X-ray diffractometer (XRD; PANalytical׳s X׳Pert PRO) with CuK α radiation (λ=1.5406Å) in grazing angle mode has been used to study the crystal structure of the films. The surface topography has been studied using atomic force microscope (AFM; NTMDT-NTEGRA) having a silicon nitride cantilever with a stiffness of 0.16Nm−1. The M–H curves have been obtained utilizing vibrating sample magnetometer (VSM; EG & G PARC model 155) at room temperature. 3 Results and discussion The thickness (t) of nanofilms measured by stylus profilometer has been mentioned in Table 1. EDAX spectra of Cd1−x Co x S nanofilms ( Fig. 1) show different peaks ((K-series; 2.4keV for S, 1.8keV, 7keV and 7.6keV for Co) and (L-series; 3.2keV and 4keV for Cd)) which confirm the presence of Cd, S and Co elements in the deposited films. The other peaks correspond to mainly Si, Na, O and C present in the sample coating and glass substrate. The at% of Cd, S and Co have been quantified by mathematical operation by subtracting the at% of other elements. EDAX analysis reveals that the Co content in Cd1−x Co x S nanofilms, i.e., x = Co / ( Cd + Co ) increases (0–0.08) in accordance with molar concentration of Co2+ ions i.e., x m = Co / ( Cd + Co ) in the solution (0–0.2). The decrease of at% of Cd with increasing Co concentration may suggests the introduction of Co2+ ions in CdS structure (Table 1). Generally, CdS exists in two crystalline structures viz. zinc blende (β-CdS) and wurtzite (α-CdS). However, CdS films deposited by CBD frequently exhibit the polymorph structure [33,34]. The diffraction peaks, (100) and (002) reflection, in Fig. 2 are indexed to α-CdS structure with hexagonal unit cell [35] in conjunction with other reflection peaks shared by either α-CdS or both α and β-CdS [35]. No characteristic peak associated with cobalt metal, oxides or other cadmium–cobalt metallic phase has been observed within the detection limit of GAXRD. This suggests that Co content is thoroughly distributed in Cd1−x Co x S nanofilms with prominent wurtzite phase. The existence of multiple reflection peaks shows the polycrystalline nature of the deposited nanofilms with preferred orientation along the (002) direction. The intensity of reflection peaks of Cd1−x Co x S nanofilms has been observed to reduce, while the 2θ position of prominent (002) peaks (26.74°, 26.76°, 26.81°, 26.85°, 26.91° and 26.94°) shift toward higher 2θ with increase in Co concentration. The shift of GAXRD peaks may be attributed to the incorporation of small Co2+ ions (r Co 2+=0.72Å) into host CdS lattice by occupying the sites of large Cd2+ ions (r Cd 2+=0.97Å) [36]. The shift in GAXRD peak with TM doping has also been reported in literature [37,38] The decrease in intensity of reflection peaks is related to the change in the scattering intensity of the components of the crystal structure (hkl) and their arrangement in the lattice [39,40]. The substitution of Cd2+ ions by Co2+ ions may lead to change in the structure factor of CdS lattice causing the reduction of reflection peak intensity [36,39] because the atomic scattering factor for Co atom (=27) is almost half the value of Cd atom (=48) [39]. Another possibility for the decrease of grazing incidence diffraction intensity is an increased texturing of the nanofilms. The texture coefficient has been calculated [41] and found to be 2.99, 2.90, 3.23, 3.15, 3.39 and 3.53 for x=0, 0.01, 0.02, 0.03, 0.06 and 0.08 respectively. The prominent α-CdS phase in nanofilms remain unaltered with Co addition, but the reflection peaks (Fig. 2) become broad indicating a decrease in crystallite size and abundance of lattice defects. The average crystallite size ‘D hkl ’ (Table 1) and interplanar spacing ‘d hkl ’ ( Fig. 3) have been calculated using the Debye–Scherrer formula and Bragg׳s diffraction equation [42] respectively. The decrease of d 002-spacing with increasing Co2+ concentration (Fig. 3) leads to a change in lattice parameters. The lattice parameters (a and c) have been calculated using the values of d 002 and d 100 [43] (Table 1). The lattice parameter (c/a) ratio has been observed to be <5% for Cd1−x Co x S nanofilms in comparison to the ideal c/a value for wurtzite CdS structure [35]. A decrease in the value of d 002 and c/a (Fig. 3) indicates incorporation of Co2+ ions into CdS lattice and shows lattice contraction. A shrinkage in d 002 spacing and shift in the position of peaks to higher 2θ values signify that the nanofilms are under tensile strain along the substrate–film interface (i.e., along the (002) crystalline direction) [44]. This may be due to the substitution of small size Co2+ ions taking place more prominently in the α-CdS structure [27]. The substitution of Co2+ ions at Cd2+ sites and difference of their ionic radii may be responsible for lattice defects. The microstrain (ε hkl ) and dislocation density (δ hkl ) of nanofilms have been calculated (Table 1) [41]. With Co content, ε hkl and δ hkl increases indicating an increase in lattice defects. Figs. 4 and 5 show 2D and 3D images for Cd1−x Co x S nanofilms obtained by AFM respectively. AFM study reveals that the crystallite size (D AFM ) and root mean square surface roughness (R rms ) of nanofilms vary with Co concentration (Table 1). Undoped CdS nanofilm possesses larger crystallites and high surface roughness (Figs. 4 and 5(a)). However, with the increase in Co concentration (x≥0.01) D AFM of nanofilms decreases (Figs. 4(b)–(f)). The surface roughness (Figs. 5(a)–(c)) decreases with increasing Co concentration and reaches a minimum of 6.16nm for x=0.02 and then increases with further Co2+ concentration (Figs. 5(d)–(f)). The change in the surface roughness with varying Co concentration may be due to random distribution of Co2+ ions in the CdS structure signified by the variation in peak–valley distribution in the film morphology (Figs. 5(a)–(f)). The low surface skewness (S sk ) and kurtosis coefficient (S ka ) values for all nanofilms (Table 1) indicate that the height distribution is uniform, with approximately equal number of high peaks to deep valleys over the scanned area (1×1μm2) [45]. 3D AFM images (Fig. 5(a)–(f)) show that the deposited films grow with columnar structures along the c-axis perpendicular to the substrate which confirms the prominent wurtzite structure in deposited Cd1−x Co x S nanofilms [34,46]. This is also supported by rocking curve at (100) and (002) reflection in the XRD spectra (Fig. 2). From Fig. 4 it is clear that the morphology of nanofilms change beyond x=0.02 which may be due to the phase separation with increase in Co concentration. The field dependent magnetization (M–H curves) of Cd1−x Co x S nanofilms at room temperature ( Fig. 6) have been calculated after subtracting the diamagnetic contribution of the glass substrate. The magnetic parameters like saturation magnetization (M s ), remanent magnetization (M r ), magnetic coercivity (H c ) and squareness ratio (M r /M s ) have been calculated from M–H curves. The magnetic properties in DMS strongly depend on different factors such as concentration of TM impurities, defect structure, secondary phase formation and metallic clustering, etc. [28]. Since, no impurity peak has been observed in the GAXRD spectra, therefore, the magnetic behavior of the nanofilms may be associated with an increase in Co2+ ion concentration, and the lattice defects/disorders evolved thereof. In CdS, Cd2+ has electronic configuration 4d 10 with fully paired d-electron, hence CdS will show diamagnetic behavior and same has been detected in experimental results (Fig. 6). The diamagnetism in pure CdS (bulk) with magnetic susceptibility of −1.5×10−6 (cgs units) has already been reported [14,47]. For x=0.01, the observation of an anti S-type M–H curve (Fig. 6) indicates that the nanofilm is still in diamagnetic state. The existence of diamagnetism in x=0.01 may be due to the strong influence of the host CdS towards magnetic behavior. For x=0.02, the M–H curve (Fig. 6 and inset of Fig. 7) exhibit linearity in hysteresis indicating paramagnetic state. The lattice defects (vacancies or interstitials) induced by Co2+ ion in the CdS structure may be responsible for the progressive alignment of the neighboring Co2+ pair spin components along the direction of magnetic field. Consequently, the Co2+ ions exhibit nearest-neighbor interaction via superexchange mechanism resulting in short range anti-ferromagnetic coupling in them and the spins remain canted to some extent [13]. Hence, no significant hysteresis is observed for x=0.02. The nanofilms acquire enhanced magnetic properties (i.e., definite value of M s , M r and H c ) with further increase of Co content (x>0.02) in the CdS structure. As a result, the M–H curve gradually makes transition into S-type hysteresis, indicating the growth of ferromagnetic long range order in Co doped CdS films. For x>0.02, the narrow magnetic hysteresis loop (typical S-type) shows a clear transition to ferromagnetic state in these films (Fig. 6). The calculated values of M s and M r (Fig. 7) are 19.65emu/cm3 and 1.84emu/cm3, 25.33emu/cm3 and 1.94emu/cm3, 29.78emu/cm3 and 2.41emu/cm3 for x=0.03, 0.06 and 0.08 respectively. The values of H c are 164.87Oe, 160.94Oe and 131.84Oe for x=0.03, 0.06 and 0.08 respectively. The squareness ratio (M r /M s ) represents how square the hysteresis loop is and has been found to be very low (M r /M s ≤0.09) for x>0.02. The M s and M r increase while H c decreases with increase in Co concentration for x>0.02. The low values of H c and M r /M s indicate that Cd1−x Co x S nanofilms for x>0.02 exhibit soft magnetic behavior which increases with cobalt content [48]. The increase in Co2+ concentration in CdS (x>0.02), the free delocalized carriers of host CdS lattice and the localized d spins of Co2+ ions interact through a double exchange interaction mechanism (sp–d) [13,21,46] and become stronger with Co content. These free carriers mediate through Co2+ ions resulting in ferromagnetic behavior. This exchange interaction leads to the spin polarization of these free carriers with local spin polarized electrons of Co2+ ions in the same spin direction under the influence of external magnetic field [21]. As a result, Cd1−x Co x S films with x>0.02 exhibit ferromagnetism. It has been reported that M s values for oxide based DMS lies in the range of 1emu/cm3–10emu/cm3 [49] but in present case the range of M s lies in ~20emu/cm3–30emu/cm3 for x>0.02. The shapes of M–H curves and associated magnetic fields correspond to the curves for Co particles [50]. Thus, for x>0.02, a phase separation may have occurred, indicating a possibility of superparamagnetsim. Moreover, the decrease in the crystallite size with Co content enhances surface spin disorder in the films because of lattice defects/disorder associated with the increase in microstrain and dislocations [51,52]. Thus, the increase in percentage of spins on the surface would generate magnetic frustration in the films enhancing the ferromagnetism. This results in hysteresis loop that appears along hard axis for x>0.02. Therefore, the substitution of Co2+ in CdS leads to spin–orbit interaction for doping x>0.02 induces ferromagnetism in Cd1−x Co x S nanofilms. The presence of ferromagnetism with low magnetic coercivity may render potential applications of these dilute magnetic semiconductor nanofilms in spintronics. 4 Conclusion The lattice defects associated with the introduction of Co2+ ions in CdS lattice bring significant changes in structural parameters. Cd1−x Co x S (0≤x≤0.08at%) nanofilms show columnar growth of crystallites oriented along (002) reflection plane indicating prominent wurtzite structure. The diamagnetic state of CdS vanishes with increasing Co content for x=0.02 and a transition to ferromagnetic state for x>0.02 has been observed. This transition in magnetic behavior of Cd1−x Co x S dilute magnetic semiconductor nanofilms may be due to the induced lattice defects, phase separation and sp–d exchange interaction. References [1] J.K. Furdyna J. Appl. Phys. 64 1988 R29 [2] H. Ohno Science 281 1998 951 [3] T. Dielt H. Ohno F. Matsukura',\n",
       "  'doi': '10.1016/j.jmmm.2014.04.065'},\n",
       " Dataset({\n",
       "     features: ['title', 'abstract', 'text', 'doi'],\n",
       "     num_rows: 150684\n",
       " }))"
      ]
     },
     "execution_count": 6,
     "metadata": {},
     "output_type": "execute_result"
    }
   ],
   "source": [
    "len(magnetics_dataset), magnetics_dataset[10],magnetics_dataset"
   ]
  },
  {
   "cell_type": "code",
   "execution_count": 7,
   "metadata": {},
   "outputs": [],
   "source": [
    "def compute_text_length(example):\n",
    "    return {\"text_length\":len(example[\"text\"].split()),\n",
    "    \"abstract_length\":len(example[\"abstract\"].split())}"
   ]
  },
  {
   "cell_type": "code",
   "execution_count": 8,
   "metadata": {},
   "outputs": [],
   "source": [
    "magnetics_dataset=magnetics_dataset.map(compute_text_length)"
   ]
  },
  {
   "cell_type": "code",
   "execution_count": 9,
   "metadata": {},
   "outputs": [],
   "source": [
    "magnetics_dataset=magnetics_dataset.filter(lambda x:x[\"abstract_length\"]>50)"
   ]
  },
  {
   "cell_type": "code",
   "execution_count": 10,
   "metadata": {},
   "outputs": [
    {
     "data": {
      "text/plain": [
       "144581"
      ]
     },
     "execution_count": 10,
     "metadata": {},
     "output_type": "execute_result"
    }
   ],
   "source": [
    "len(magnetics_dataset)"
   ]
  },
  {
   "cell_type": "code",
   "execution_count": 11,
   "metadata": {},
   "outputs": [],
   "source": [
    "def text_filter(example):\n",
    "    return (example[\"text\"]!=\"Text is not string.\" and example[\"text\"]!=\"Read document failed.\")"
   ]
  },
  {
   "cell_type": "code",
   "execution_count": 12,
   "metadata": {},
   "outputs": [],
   "source": [
    "ds1=magnetics_dataset.filter(text_filter)\n",
    "ds2=magnetics_dataset.filter(lambda x:x[\"text\"]==\"Text is not string.\")"
   ]
  },
  {
   "cell_type": "code",
   "execution_count": 13,
   "metadata": {},
   "outputs": [],
   "source": [
    "def replace_text_not_string(example):\n",
    "    return {\"text\":\"\"}"
   ]
  },
  {
   "cell_type": "code",
   "execution_count": 14,
   "metadata": {},
   "outputs": [
    {
     "data": {
      "text/plain": [
       "Dataset({\n",
       "    features: ['title', 'abstract', 'text', 'doi', 'text_length', 'abstract_length'],\n",
       "    num_rows: 13185\n",
       "})"
      ]
     },
     "execution_count": 14,
     "metadata": {},
     "output_type": "execute_result"
    }
   ],
   "source": [
    "ds2"
   ]
  },
  {
   "cell_type": "code",
   "execution_count": 15,
   "metadata": {},
   "outputs": [],
   "source": [
    "ds2=ds2.map(replace_text_not_string)"
   ]
  },
  {
   "cell_type": "code",
   "execution_count": 16,
   "metadata": {},
   "outputs": [],
   "source": [
    "magnetics_dataset=datasets.concatenate_datasets([ds1,ds2])"
   ]
  },
  {
   "cell_type": "code",
   "execution_count": 17,
   "metadata": {},
   "outputs": [
    {
     "data": {
      "text/plain": [
       "144581"
      ]
     },
     "execution_count": 17,
     "metadata": {},
     "output_type": "execute_result"
    }
   ],
   "source": [
    "len(magnetics_dataset)"
   ]
  },
  {
   "cell_type": "code",
   "execution_count": 18,
   "metadata": {},
   "outputs": [],
   "source": [
    "def combine_title_abs_text(example):\n",
    "    return {\"title_abs_text\":example[\"title\"]+\" \"+example[\"abstract\"]+\" \"+example[\"text\"]}"
   ]
  },
  {
   "cell_type": "code",
   "execution_count": 19,
   "metadata": {},
   "outputs": [],
   "source": [
    "magnetics_dataset=magnetics_dataset.map(combine_title_abs_text)"
   ]
  },
  {
   "cell_type": "code",
   "execution_count": 20,
   "metadata": {},
   "outputs": [
    {
     "data": {
      "text/plain": [
       "144581"
      ]
     },
     "execution_count": 20,
     "metadata": {},
     "output_type": "execute_result"
    }
   ],
   "source": [
    "len(magnetics_dataset)"
   ]
  },
  {
   "cell_type": "code",
   "execution_count": 21,
   "metadata": {},
   "outputs": [],
   "source": [
    "magnetics_dataset=magnetics_dataset.shuffle(seed=0).train_test_split(train_size=0.9, seed=0)"
   ]
  },
  {
   "cell_type": "code",
   "execution_count": 22,
   "metadata": {},
   "outputs": [
    {
     "data": {
      "application/vnd.jupyter.widget-view+json": {
       "model_id": "4aacc99420a74a7094093fe74beb6b70",
       "version_major": 2,
       "version_minor": 0
      },
      "text/plain": [
       "(…)ibert/resolve/main/tokenizer_config.json:   0%|          | 0.00/323 [00:00<?, ?B/s]"
      ]
     },
     "metadata": {},
     "output_type": "display_data"
    },
    {
     "data": {
      "application/vnd.jupyter.widget-view+json": {
       "model_id": "0c6c65bbce334c24b9d1bfc6b713c735",
       "version_major": 2,
       "version_minor": 0
      },
      "text/plain": [
       "(…)iitd/matscibert/resolve/main/config.json:   0%|          | 0.00/620 [00:00<?, ?B/s]"
      ]
     },
     "metadata": {},
     "output_type": "display_data"
    },
    {
     "data": {
      "application/vnd.jupyter.widget-view+json": {
       "model_id": "211ccbf4e5a84b0f8f05e4a5a8406f0c",
       "version_major": 2,
       "version_minor": 0
      },
      "text/plain": [
       "(…)g-iitd/matscibert/resolve/main/vocab.txt:   0%|          | 0.00/228k [00:00<?, ?B/s]"
      ]
     },
     "metadata": {},
     "output_type": "display_data"
    },
    {
     "data": {
      "application/vnd.jupyter.widget-view+json": {
       "model_id": "9029b440fda04ef2a30a2238e5530dbd",
       "version_major": 2,
       "version_minor": 0
      },
      "text/plain": [
       "(…)d/matscibert/resolve/main/tokenizer.json:   0%|          | 0.00/467k [00:00<?, ?B/s]"
      ]
     },
     "metadata": {},
     "output_type": "display_data"
    },
    {
     "data": {
      "application/vnd.jupyter.widget-view+json": {
       "model_id": "b4ad3d3825ea4586b83048c45fdf6a10",
       "version_major": 2,
       "version_minor": 0
      },
      "text/plain": [
       "(…)ert/resolve/main/special_tokens_map.json:   0%|          | 0.00/112 [00:00<?, ?B/s]"
      ]
     },
     "metadata": {},
     "output_type": "display_data"
    }
   ],
   "source": [
    "from transformers import AutoTokenizer\n",
    "model_checkpoint=\"m3rg-iitd/matscibert\"\n",
    "tokenizer=AutoTokenizer.from_pretrained(model_checkpoint)"
   ]
  },
  {
   "cell_type": "code",
   "execution_count": 23,
   "metadata": {},
   "outputs": [],
   "source": [
    "tokenized_sample=tokenizer(\"This is simple text.\")"
   ]
  },
  {
   "cell_type": "code",
   "execution_count": 24,
   "metadata": {},
   "outputs": [
    {
     "data": {
      "text/plain": [
       "'[CLS] this is simple text. [SEP]'"
      ]
     },
     "execution_count": 24,
     "metadata": {},
     "output_type": "execute_result"
    }
   ],
   "source": [
    "tokenizer.decode(tokenized_sample['input_ids'])"
   ]
  },
  {
   "cell_type": "code",
   "execution_count": 25,
   "metadata": {},
   "outputs": [
    {
     "data": {
      "text/plain": [
       "[None, 0, 1, 2, 3, 4, None]"
      ]
     },
     "execution_count": 25,
     "metadata": {},
     "output_type": "execute_result"
    }
   ],
   "source": [
    "[tokenized_sample.word_ids()[i] for i in range(len(tokenized_sample['input_ids']))]"
   ]
  },
  {
   "cell_type": "code",
   "execution_count": 26,
   "metadata": {},
   "outputs": [],
   "source": [
    "def tokenize(example):\n",
    "    result=tokenizer(example['title_abs_text'])\n",
    "    if tokenizer.is_fast:\n",
    "        result['word_ids']=[result.word_ids(i) for i in range(len(result['input_ids']))]\n",
    "    return result"
   ]
  },
  {
   "cell_type": "code",
   "execution_count": 27,
   "metadata": {},
   "outputs": [
    {
     "data": {
      "application/vnd.jupyter.widget-view+json": {
       "model_id": "cdce4b4bdad64549ac6d27a1dbea651a",
       "version_major": 2,
       "version_minor": 0
      },
      "text/plain": [
       "Map (num_proc=8):   0%|          | 0/130122 [00:00<?, ? examples/s]"
      ]
     },
     "metadata": {},
     "output_type": "display_data"
    },
    {
     "data": {
      "application/vnd.jupyter.widget-view+json": {
       "model_id": "dacf6bac820d4652a29bba842ac3d9f5",
       "version_major": 2,
       "version_minor": 0
      },
      "text/plain": [
       "Map (num_proc=8):   0%|          | 0/14459 [00:00<?, ? examples/s]"
      ]
     },
     "metadata": {},
     "output_type": "display_data"
    }
   ],
   "source": [
    "tokenized_dataset=magnetics_dataset.map(tokenize,batched=True,\\\n",
    "    remove_columns=[\"title\",\"abstract\",\"text\",\"doi\",\"text_length\",\"abstract_length\",\"title_abs_text\"],num_proc=8)"
   ]
  },
  {
   "cell_type": "code",
   "execution_count": 28,
   "metadata": {},
   "outputs": [
    {
     "data": {
      "text/plain": [
       "DatasetDict({\n",
       "    train: Dataset({\n",
       "        features: ['input_ids', 'token_type_ids', 'attention_mask', 'word_ids'],\n",
       "        num_rows: 130122\n",
       "    })\n",
       "    test: Dataset({\n",
       "        features: ['input_ids', 'token_type_ids', 'attention_mask', 'word_ids'],\n",
       "        num_rows: 14459\n",
       "    })\n",
       "})"
      ]
     },
     "execution_count": 28,
     "metadata": {},
     "output_type": "execute_result"
    }
   ],
   "source": [
    "tokenized_dataset"
   ]
  },
  {
   "cell_type": "code",
   "execution_count": 29,
   "metadata": {},
   "outputs": [
    {
     "data": {
      "text/plain": [
       "1000000000000000019884624838656"
      ]
     },
     "execution_count": 29,
     "metadata": {},
     "output_type": "execute_result"
    }
   ],
   "source": [
    "tokenizer.model_max_length"
   ]
  },
  {
   "cell_type": "code",
   "execution_count": 30,
   "metadata": {},
   "outputs": [],
   "source": [
    "chunk_size=512"
   ]
  },
  {
   "cell_type": "code",
   "execution_count": 31,
   "metadata": {},
   "outputs": [
    {
     "name": "stdout",
     "output_type": "stream",
     "text": [
      "'>>> Text 0 length: 7624'\n",
      "'>>> Text 1 length: 94'\n",
      "'>>> Text 2 length: 3604'\n"
     ]
    }
   ],
   "source": [
    "tokenized_samples = tokenized_dataset['train'][:3]\n",
    "\n",
    "for idx, sample in enumerate(tokenized_samples[\"input_ids\"]):\n",
    "    print(f\"'>>> Text {idx} length: {len(sample)}'\")"
   ]
  },
  {
   "cell_type": "code",
   "execution_count": 32,
   "metadata": {},
   "outputs": [
    {
     "name": "stdout",
     "output_type": "stream",
     "text": [
      "'>>> Concatenated texts length: 11322'\n"
     ]
    }
   ],
   "source": [
    "concatenated_examples={\n",
    "    k:sum(tokenized_samples[k],[]) for k in tokenized_samples.keys()\n",
    "}\n",
    "total_length=len(concatenated_examples['input_ids'])\n",
    "print(f\"'>>> Concatenated texts length: {total_length}'\")"
   ]
  },
  {
   "cell_type": "code",
   "execution_count": 33,
   "metadata": {},
   "outputs": [
    {
     "name": "stdout",
     "output_type": "stream",
     "text": [
      "'>>> Chunk length: 512'\n",
      "'>>> Chunk length: 512'\n",
      "'>>> Chunk length: 512'\n",
      "'>>> Chunk length: 512'\n",
      "'>>> Chunk length: 512'\n",
      "'>>> Chunk length: 512'\n",
      "'>>> Chunk length: 512'\n",
      "'>>> Chunk length: 512'\n",
      "'>>> Chunk length: 512'\n",
      "'>>> Chunk length: 512'\n",
      "'>>> Chunk length: 512'\n",
      "'>>> Chunk length: 512'\n",
      "'>>> Chunk length: 512'\n",
      "'>>> Chunk length: 512'\n",
      "'>>> Chunk length: 512'\n",
      "'>>> Chunk length: 512'\n",
      "'>>> Chunk length: 512'\n",
      "'>>> Chunk length: 512'\n",
      "'>>> Chunk length: 512'\n",
      "'>>> Chunk length: 512'\n",
      "'>>> Chunk length: 512'\n",
      "'>>> Chunk length: 512'\n",
      "'>>> Chunk length: 58'\n"
     ]
    }
   ],
   "source": [
    "chunks={\n",
    "    k:[t[i:i+chunk_size] for i in range(0,total_length,chunk_size)]\\\n",
    "        for k,t in concatenated_examples.items()\n",
    "}\n",
    "\n",
    "\n",
    "for chunk in chunks[\"input_ids\"]:\n",
    "    print(f\"'>>> Chunk length: {len(chunk)}'\")"
   ]
  },
  {
   "cell_type": "code",
   "execution_count": 34,
   "metadata": {},
   "outputs": [],
   "source": [
    "def group_texts(examples):\n",
    "    # Concatenate all texts\n",
    "    concatenated_examples = {k: sum(examples[k], []) for k in examples.keys()}\n",
    "    # Compute length of concatenated texts\n",
    "    total_length = len(concatenated_examples[list(examples.keys())[0]])\n",
    "    # We drop the last chunk if it's smaller than chunk_size\n",
    "    total_length = (total_length // chunk_size) * chunk_size\n",
    "    # Split by chunks of max_len\n",
    "    result = {\n",
    "        k: [t[i : i + chunk_size] for i in range(0, total_length, chunk_size)]\n",
    "        for k, t in concatenated_examples.items()\n",
    "    }\n",
    "    # Create a new labels column\n",
    "    result[\"labels\"] = result[\"input_ids\"].copy()\n",
    "    return result"
   ]
  },
  {
   "cell_type": "code",
   "execution_count": 35,
   "metadata": {},
   "outputs": [
    {
     "data": {
      "application/vnd.jupyter.widget-view+json": {
       "model_id": "4b155e538b39482c8ce78e2f317c16b6",
       "version_major": 2,
       "version_minor": 0
      },
      "text/plain": [
       "Map (num_proc=8):   0%|          | 0/130122 [00:00<?, ? examples/s]"
      ]
     },
     "metadata": {},
     "output_type": "display_data"
    },
    {
     "data": {
      "application/vnd.jupyter.widget-view+json": {
       "model_id": "2061fb13620140cb9f5b2ce7179785b8",
       "version_major": 2,
       "version_minor": 0
      },
      "text/plain": [
       "Map (num_proc=8):   0%|          | 0/14459 [00:00<?, ? examples/s]"
      ]
     },
     "metadata": {},
     "output_type": "display_data"
    },
    {
     "data": {
      "text/plain": [
       "DatasetDict({\n",
       "    train: Dataset({\n",
       "        features: ['input_ids', 'token_type_ids', 'attention_mask', 'word_ids', 'labels'],\n",
       "        num_rows: 972026\n",
       "    })\n",
       "    test: Dataset({\n",
       "        features: ['input_ids', 'token_type_ids', 'attention_mask', 'word_ids', 'labels'],\n",
       "        num_rows: 106523\n",
       "    })\n",
       "})"
      ]
     },
     "execution_count": 35,
     "metadata": {},
     "output_type": "execute_result"
    }
   ],
   "source": [
    "chunked_magnetics_ds=tokenized_dataset.map(group_texts,batched=True,num_proc=8)\n",
    "chunked_magnetics_ds"
   ]
  },
  {
   "cell_type": "markdown",
   "metadata": {},
   "source": []
  },
  {
   "cell_type": "code",
   "execution_count": 36,
   "metadata": {},
   "outputs": [
    {
     "data": {
      "application/vnd.jupyter.widget-view+json": {
       "model_id": "eddf470106b64362a7bc0a64664e36ca",
       "version_major": 2,
       "version_minor": 0
      },
      "text/plain": [
       "Saving the dataset (0/23 shards):   0%|          | 0/972026 [00:00<?, ? examples/s]"
      ]
     },
     "metadata": {},
     "output_type": "display_data"
    },
    {
     "data": {
      "application/vnd.jupyter.widget-view+json": {
       "model_id": "88e362fbda3d4347be7c5f234cd4ae5f",
       "version_major": 2,
       "version_minor": 0
      },
      "text/plain": [
       "Saving the dataset (0/3 shards):   0%|          | 0/106523 [00:00<?, ? examples/s]"
      ]
     },
     "metadata": {},
     "output_type": "display_data"
    }
   ],
   "source": [
    "chunked_magnetics_ds.save_to_disk(\"/l/users/huseyin.ucar/NLP_magnets_data/chunked_ds_matscibert\")"
   ]
  },
  {
   "cell_type": "code",
   "execution_count": 37,
   "metadata": {},
   "outputs": [
    {
     "name": "stdout",
     "output_type": "stream",
     "text": [
      "3.1G\t/l/users/huseyin.ucar/NLP_magnets_data/chunked_ds_matscibert/train\n",
      "62M\t/l/users/huseyin.ucar/NLP_magnets_data/chunked_ds_matscibert/test\n",
      "3.1G\t/l/users/huseyin.ucar/NLP_magnets_data/chunked_ds_matscibert\n"
     ]
    }
   ],
   "source": [
    "!du -h /l/users/huseyin.ucar/NLP_magnets_data/chunked_ds_matscibert"
   ]
  },
  {
   "cell_type": "code",
   "execution_count": null,
   "metadata": {},
   "outputs": [],
   "source": []
  }
 ],
 "metadata": {
  "kernelspec": {
   "display_name": "ml-38",
   "language": "python",
   "name": "python3"
  },
  "language_info": {
   "codemirror_mode": {
    "name": "ipython",
    "version": 3
   },
   "file_extension": ".py",
   "mimetype": "text/x-python",
   "name": "python",
   "nbconvert_exporter": "python",
   "pygments_lexer": "ipython3",
   "version": "3.8.18"
  }
 },
 "nbformat": 4,
 "nbformat_minor": 2
}
